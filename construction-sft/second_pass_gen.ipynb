{
 "cells": [
  {
   "cell_type": "code",
   "execution_count": null,
   "metadata": {},
   "outputs": [],
   "source": [
    "# data should be from the output of first_pass_gen.py\n",
    "work_on_data = \"./data_with_reasonings_0.pkl\""
   ]
  },
  {
   "cell_type": "code",
   "execution_count": 1,
   "metadata": {},
   "outputs": [],
   "source": [
    "from typing import Annotated, Literal, TypedDict, Any\n",
    "from langchain_core.messages import HumanMessage, AIMessage, ToolMessage\n",
    "from langchain_core.tools import tool\n",
    "from langgraph.checkpoint.memory import MemorySaver\n",
    "from langgraph.graph import END, START, StateGraph, MessagesState\n",
    "from langgraph.prebuilt import ToolNode\n",
    "from langchain_ollama import ChatOllama\n",
    "from langchain_core.output_parsers import StrOutputParser\n",
    "import pandas as pd\n",
    "import pickle\n",
    "from tqdm import tqdm\n",
    "import os\n",
    "from langchain_huggingface import HuggingFaceEmbeddings\n",
    "from langchain_chroma import Chroma\n",
    "import json\n",
    "import uuid\n",
    "from langchain_core.documents import Document\n",
    "from time import time\n",
    "import chromadb\n",
    "from langgraph.graph.message import add_messages\n",
    "from pydantic import Field, BaseModel\n",
    "from langchain_community.retrievers import BM25Retriever\n",
    "import loguru\n",
    "import pickle\n",
    "import requests as rq\n",
    "from bs4 import BeautifulSoup\n",
    "from urllib.parse import quote, quote_plus, urlparse, parse_qs, urlunparse, urlencode\n",
    "from concurrent.futures import ThreadPoolExecutor\n",
    "from langchain_core.utils.function_calling import convert_to_openai_function\n",
    "import json"
   ]
  },
  {
   "cell_type": "code",
   "execution_count": 2,
   "metadata": {},
   "outputs": [],
   "source": [
    "class RetrievalRequest(BaseModel):\n",
    "\n",
    "    reasoning: str = Field(\n",
    "        description=\"The process of how you arrived on the following queries you are going to make based on the input. Reasoning should be concise and contain only important points.\"\n",
    "    )\n",
    "    queries: list[str] = Field(\n",
    "        description=\"The queries you want to make. Each should be a question.\"\n",
    "    )\n",
    "\n",
    "class RefinedResult(BaseModel):\n",
    "\n",
    "    refined_result: str = Field(\n",
    "        description=\"The refined result of the given message. Should be in no more than 2 to 3 sentences. Should contain no more content than what's related to the query.\"\n",
    "    )\n",
    "\n",
    "class ReasoningCheck(BaseModel):\n",
    "\n",
    "    reasoning: str = Field(\n",
    "        description=\"The reason why you assert that you can deduce the answer of the professional doctor from the given information, or why you cannot deduce it. Reasoning should be concise and contain only important points.\"\n",
    "    )\n",
    "    deducible: bool = Field(description=\"Whether you can deduce the answer of the professional doctor from the given information.\")\n",
    "\n",
    "class Response(BaseModel):\n",
    "\n",
    "    reasoning: str = Field(\n",
    "        description=\"The reason why you ask the user for more information or respond to them. Reasoning should be concise and contain only important points.\"\n",
    "    )\n",
    "    is_asking: bool = Field(\n",
    "        description=\"Wehther your sentence asks the user for more information or tell them something. If this is true, this response will be marked as ask, or else it will be marked as tell.\"\n",
    "    )\n",
    "    entities: list[str] = Field(\n",
    "        description=\"The medical entities related to this conversation. Only the important ones should be included.\"\n",
    "    )\n",
    "    text: str = Field(\n",
    "        description=\"The text sent to the patient.\"\n",
    "    )\n",
    "\n",
    "class Conversation(TypedDict):\n",
    "    \n",
    "    patient: str\n",
    "    doctor: str\n",
    "\n",
    "class RetrievalItem(TypedDict):\n",
    "    \n",
    "    query: str\n",
    "    refined_result: str\n",
    "\n",
    "class StructuredOutputWithRaw(TypedDict):\n",
    "    \n",
    "    raw: AIMessage\n",
    "    parsed: Any\n",
    "    parsing_error: Any"
   ]
  },
  {
   "cell_type": "code",
   "execution_count": 3,
   "metadata": {},
   "outputs": [],
   "source": [
    "ld = pickle.load(open(work_on_data, \"rb\"))"
   ]
  },
  {
   "cell_type": "code",
   "execution_count": 4,
   "metadata": {},
   "outputs": [
    {
     "data": {
      "text/plain": [
       "65019"
      ]
     },
     "execution_count": 4,
     "metadata": {},
     "output_type": "execute_result"
    }
   ],
   "source": [
    "len(ld)"
   ]
  },
  {
   "cell_type": "code",
   "execution_count": 5,
   "metadata": {},
   "outputs": [
    {
     "data": {
      "text/plain": [
       "{'conversation': [{'patient': '扁桃体发炎，咽痛，拖久了会不会要做手术啊？',\n",
       "   'doctor': '扁桃体炎需要及时药物治疗控制，拖久了会引起扁桃体周围炎或脓肿，或可引起风湿性疾病。'},\n",
       "  {'patient': '咽口水都觉得有东西在喉咙管，疼', 'doctor': '需要明确扁桃体炎还是急性咽炎，病情查血常规，看血象有多高'}],\n",
       " 'query_messages': [AIMessage(content='', additional_kwargs={'tool_calls': [{'id': 'call_fpgYnrlIypSQh09nPIL3j9XT', 'function': {'arguments': '{\"reasoning\":\"患者提到扁桃体发炎和咽痛，询问是否需要手术，说明需要了解扁桃体炎的治疗方案和可能的并发症。患者也提到吞咽时喉咙有异物感和疼痛，因此需要了解咽痛的原因和相关症状。\",\"queries\":[\"扁桃体炎的治疗方法有哪些？\",\"咽痛伴随异物感的常见原因是什么？\"]}', 'name': 'RetrievalRequest'}, 'type': 'function'}], 'refusal': None}, response_metadata={'token_usage': {'completion_tokens': 105, 'prompt_tokens': 344, 'total_tokens': 449, 'completion_tokens_details': {'accepted_prediction_tokens': 0, 'audio_tokens': 0, 'reasoning_tokens': 0, 'rejected_prediction_tokens': 0}, 'prompt_tokens_details': {'audio_tokens': 0, 'cached_tokens': 0}}, 'model_name': 'gpt-4o-mini-2024-07-18', 'system_fingerprint': 'fp_0705bf87c0', 'finish_reason': 'stop', 'logprobs': None}, id='run-c22bdbb4-c046-40c1-bd99-35df9466c53e-0', tool_calls=[{'name': 'RetrievalRequest', 'args': {'reasoning': '患者提到扁桃体发炎和咽痛，询问是否需要手术，说明需要了解扁桃体炎的治疗方案和可能的并发症。患者也提到吞咽时喉咙有异物感和疼痛，因此需要了解咽痛的原因和相关症状。', 'queries': ['扁桃体炎的治疗方法有哪些？', '咽痛伴随异物感的常见原因是什么？']}, 'id': 'call_fpgYnrlIypSQh09nPIL3j9XT', 'type': 'tool_call'}], usage_metadata={'input_tokens': 344, 'output_tokens': 105, 'total_tokens': 449, 'input_token_details': {'audio': 0, 'cache_read': 0}, 'output_token_details': {'audio': 0, 'reasoning': 0}})],\n",
       " 'query_requests': [RetrievalRequest(reasoning='患者提到扁桃体发炎和咽痛，询问是否需要手术，说明需要了解扁桃体炎的治疗方案和可能的并发症。患者也提到吞咽时喉咙有异物感和疼痛，因此需要了解咽痛的原因和相关症状。', queries=['扁桃体炎的治疗方法有哪些？', '咽痛伴随异物感的常见原因是什么？'])],\n",
       " 'query_history': [{'query': '扁桃体炎的治疗方法有哪些？',\n",
       "   'refined_result': '扁桃体炎的治疗方法包括西医手术摘除、微波或等离子治疗以及中医贴敷疗法。急性情况通常用抗生素和糖皮质激素，慢性则可通过增强体质来缓解，严重时才考虑切除手术。'},\n",
       "  {'query': '咽痛伴随异物感的常见原因是什么？',\n",
       "   'refined_result': '咽痛伴随异物感可能由慢性炎症（如咽炎）、增生肥大性病变或消化系统疾病引起。此外，精神因素和全身性疾病也可能导致这种感觉。'}],\n",
       " 'query_history_by_turn': [[{'query': '扁桃体炎的治疗方法有哪些？',\n",
       "    'refined_result': '扁桃体炎的治疗方法包括西医手术摘除、微波或等离子治疗以及中医贴敷疗法。急性情况通常用抗生素和糖皮质激素，慢性则可通过增强体质来缓解，严重时才考虑切除手术。'},\n",
       "   {'query': '咽痛伴随异物感的常见原因是什么？',\n",
       "    'refined_result': '咽痛伴随异物感可能由慢性炎症（如咽炎）、增生肥大性病变或消化系统疾病引起。此外，精神因素和全身性疾病也可能导致这种感觉。'}]],\n",
       " 'break_because': 'deducible',\n",
       " 'response': AIMessage(content='', additional_kwargs={'tool_calls': [{'id': 'call_rjnD4hWM5OIE51J3tYae73wx', 'function': {'arguments': '{\"reasoning\":\"医生需要告知患者扁桃体炎的治疗方法以及咽痛伴随异物感的可能原因，以便患者理解病情和治疗选择。\",\"is_asking\":false,\"entities\":[\"扁桃体炎\",\"咽痛\",\"手术\",\"抗生素\",\"消化系统疾病\"],\"text\":\"扁桃体炎的治疗方法包括药物治疗，如抗生素和糖皮质激素，急性情况下可能需要手术摘除。咽痛伴随异物感可能是由慢性炎症、增生病变或消化系统疾病引起的。如果症状持续或加重，建议尽快就医，以便进行详细检查和适当治疗。\"}', 'name': 'Response'}, 'type': 'function'}], 'refusal': None}, response_metadata={'token_usage': {'completion_tokens': 158, 'prompt_tokens': 651, 'total_tokens': 809, 'completion_tokens_details': {'accepted_prediction_tokens': 0, 'audio_tokens': 0, 'reasoning_tokens': 0, 'rejected_prediction_tokens': 0}, 'prompt_tokens_details': {'audio_tokens': 0, 'cached_tokens': 0}}, 'model_name': 'gpt-4o-mini-2024-07-18', 'system_fingerprint': 'fp_3de1288069', 'finish_reason': 'stop', 'logprobs': None}, id='run-c72eb2c7-4170-41ae-b4c4-22385fc4e9df-0', tool_calls=[{'name': 'Response', 'args': {'reasoning': '医生需要告知患者扁桃体炎的治疗方法以及咽痛伴随异物感的可能原因，以便患者理解病情和治疗选择。', 'is_asking': False, 'entities': ['扁桃体炎', '咽痛', '手术', '抗生素', '消化系统疾病'], 'text': '扁桃体炎的治疗方法包括药物治疗，如抗生素和糖皮质激素，急性情况下可能需要手术摘除。咽痛伴随异物感可能是由慢性炎症、增生病变或消化系统疾病引起的。如果症状持续或加重，建议尽快就医，以便进行详细检查和适当治疗。'}, 'id': 'call_rjnD4hWM5OIE51J3tYae73wx', 'type': 'tool_call'}], usage_metadata={'input_tokens': 651, 'output_tokens': 158, 'total_tokens': 809, 'input_token_details': {'audio': 0, 'cache_read': 0}, 'output_token_details': {'audio': 0, 'reasoning': 0}}),\n",
       " 'response_structured_with_raw': {'raw': AIMessage(content='', additional_kwargs={'tool_calls': [{'id': 'call_rjnD4hWM5OIE51J3tYae73wx', 'function': {'arguments': '{\"reasoning\":\"医生需要告知患者扁桃体炎的治疗方法以及咽痛伴随异物感的可能原因，以便患者理解病情和治疗选择。\",\"is_asking\":false,\"entities\":[\"扁桃体炎\",\"咽痛\",\"手术\",\"抗生素\",\"消化系统疾病\"],\"text\":\"扁桃体炎的治疗方法包括药物治疗，如抗生素和糖皮质激素，急性情况下可能需要手术摘除。咽痛伴随异物感可能是由慢性炎症、增生病变或消化系统疾病引起的。如果症状持续或加重，建议尽快就医，以便进行详细检查和适当治疗。\"}', 'name': 'Response'}, 'type': 'function'}], 'refusal': None}, response_metadata={'token_usage': {'completion_tokens': 158, 'prompt_tokens': 651, 'total_tokens': 809, 'completion_tokens_details': {'accepted_prediction_tokens': 0, 'audio_tokens': 0, 'reasoning_tokens': 0, 'rejected_prediction_tokens': 0}, 'prompt_tokens_details': {'audio_tokens': 0, 'cached_tokens': 0}}, 'model_name': 'gpt-4o-mini-2024-07-18', 'system_fingerprint': 'fp_3de1288069', 'finish_reason': 'stop', 'logprobs': None}, id='run-c72eb2c7-4170-41ae-b4c4-22385fc4e9df-0', tool_calls=[{'name': 'Response', 'args': {'reasoning': '医生需要告知患者扁桃体炎的治疗方法以及咽痛伴随异物感的可能原因，以便患者理解病情和治疗选择。', 'is_asking': False, 'entities': ['扁桃体炎', '咽痛', '手术', '抗生素', '消化系统疾病'], 'text': '扁桃体炎的治疗方法包括药物治疗，如抗生素和糖皮质激素，急性情况下可能需要手术摘除。咽痛伴随异物感可能是由慢性炎症、增生病变或消化系统疾病引起的。如果症状持续或加重，建议尽快就医，以便进行详细检查和适当治疗。'}, 'id': 'call_rjnD4hWM5OIE51J3tYae73wx', 'type': 'tool_call'}], usage_metadata={'input_tokens': 651, 'output_tokens': 158, 'total_tokens': 809, 'input_token_details': {'audio': 0, 'cache_read': 0}, 'output_token_details': {'audio': 0, 'reasoning': 0}}),\n",
       "  'parsed': Response(reasoning='医生需要告知患者扁桃体炎的治疗方法以及咽痛伴随异物感的可能原因，以便患者理解病情和治疗选择。', is_asking=False, entities=['扁桃体炎', '咽痛', '手术', '抗生素', '消化系统疾病'], text='扁桃体炎的治疗方法包括药物治疗，如抗生素和糖皮质激素，急性情况下可能需要手术摘除。咽痛伴随异物感可能是由慢性炎症、增生病变或消化系统疾病引起的。如果症状持续或加重，建议尽快就医，以便进行详细检查和适当治疗。'),\n",
       "  'parsing_error': None},\n",
       " 'rag_metas': [[{'vector_store': [Document(metadata={'answer': '对于扁桃体炎的治疗方法，目前常见的选择有西医手术摘除、微波或等离子扁桃体炎治疗以及中医贴敷疗法。\\n\\n西医手术摘除是一种较常见且有效的治疗方法。手术摘除扁桃体需要全麻，并且一些家长可能担心手术可能会带来并发症，因此不太愿意选择这种疗法。\\n\\n微波或等离子扁桃体炎治疗是一种不需要全麻的治疗方法，可以消除扁桃体炎的病灶，但是仍然会有一定的痛苦，患儿也可能难以接受。\\n\\n中医采用贴敷疗法对待扁桃体炎的治疗方法创造了另一种选择。选择具有清热解毒、凉血泻火及消肿散结作用的纯中药面做成贴敷剂，贴于下颌角处，每天贴一次，每次贴五个小时，连续十次为一个疗程。这种治疗方法可以逐步消除肿胀，托毒外出，达到消炎消肿、软坚散结的目的。通常结合内服中药，可以收到较好的效果，缓解患儿的痛苦，解除家长的后顾之忧。\\n\\n此外，对于不可逆性炎症成为病源，尤其是产生了各种并发症的情况下，扁桃体摘除术是较好的治疗方法。\\n\\n在选择适合的治疗方法时，建议您在耳鼻喉科专家的指导下进行，根据患者的具体情况做出最佳决策。', 'id': 'DX_881855', 'question': '扁桃体炎治疗的具体方法有什么选择'}, page_content='扁桃体炎治疗的具体方法有什么选择'),\n",
       "     Document(metadata={'answer': '急性扁桃体炎和慢性扁桃体炎患者的治疗方法不完全相同。急性扁桃体炎患者主要通过口服抗生素、糖皮质激素进行治疗，患病期间多饮水，多休息、多吃一些富含营养的食物、保持大便通畅。若出现高热可服用退烧药。慢性扁桃体炎患者首先可以考虑参加体育训练增强体质、免疫治疗。只有对发生不可逆病变、有全身并发症的患者，医生才考虑施行扁桃体切除术。', 'department': '耳鼻咽喉科', 'id': 'DX_38688', 'name': '扁桃体炎', 'question': '扁桃体炎怎么治疗？'}, page_content='扁桃体炎怎么治疗？')],\n",
       "    'baidu_search': (None, None, None, None)},\n",
       "   {'vector_store': [Document(metadata={'answer': '咽喉异物感是一种症状组合，包括阻塞感、压迫感、贴叶感、狭窄感、干燥感、灼热、瘙痒、蚁行感或其他不适感。其病因复杂，有器质性和功能性两种。\\n\\n器质性咽喉异物感可能与以下病变相关：\\n1. 慢性炎症：如咽炎、喉炎、扁桃体炎、鼻咽炎、食管炎、鼻窦炎等。\\n2. 增生肥大性病变：如腭扁桃体、舌扁桃体、咽扁桃体、舌根异位甲状腺等。\\n3. 解剖异常：如悬雍垂过长、茎突过长症、颈椎骨质增生等。\\n4. 消化系统疾病：如食管炎、食管憩室、胃或十二指肠溃疡、胃炎、骨下垂、慢性阑尾炎、食管及胃肿瘤、肠寄生虫病等。\\n5. 囊肿：如舌根囊肿、会厌囊肿、咽喉部潴留囊肿等。\\n6. 肿瘤：各种良性或恶性肿瘤。\\n\\n功能性咽喉异物感可能与以下因素相关：\\n1. 精神因素和自主神经功能障碍：如癔病、神经官能症、恐癌症、过度紧张、忧虑、恐惧等精神刺激。\\n2. 全身疾病：如缺铁性贫血、甲状腺疾病、性腺功能异常、绝经期综合征、糖尿病、心血管疾病等。\\n\\n对于咽喉异物感的诊断，首先应详细询问病史，并进行全面仔细的检查，从机理方面具体分析致病因素。在排除了明显的器质性病变后，可按功能性疾病所致的咽部异物感进行治疗观察。如果治疗无效，应进一步寻找病因。常见的检查包括耳鼻喉科检查以及必要的相关检查，如镜检、X线、CT、MRI等。', 'id': 'DX_762163', 'question': '对于咽喉异物感，您能否告诉我一些常见的原因和诱发因素？'}, page_content='对于咽喉异物感，您能否告诉我一些常见的原因和诱发因素？'),\n",
       "     Document(metadata={'answer': '咽部有异物感是一种常见症状，具体原因有多种可能。其中包括局部因素、全身性病变和精神因素三类。\\n\\n1. 局部因素：鼻腔、咽腔、喉腔或邻近组织的病变可以刺激相关神经，引起咽部异物感。例如，鼻炎、鼻窦炎、鼻咽肿瘤、咽炎、扁桃体炎、囊肿、结石、悬雍垂过长等疾病都可能导致该症状。此外，颈椎病、甲状腺肿大、颈淋巴结肿大等疾病也可能引起异物感。\\n\\n2. 全身性病变：由于咽部神经丰富，全身性病变也可以引起咽部异物感，这是通过神经反射和传导作用实现的。例如，心室肥大、心包积液、肺部肿瘤、食道炎、食道憩室、食道癌、胃炎、胃溃疡、胆囊炎、胆结石等疾病都可能导致咽部感觉异常。\\n\\n3. 精神因素：某些病人在心理上容易受到暗示，特别是女性。当她们听说某人患有咽喉或食道肿瘤，并与自己的感觉相一致时，会认为自己也患有相同的问题。即使医生告诉她们没有问题，她们也可能因为紧张而出现明显症状。这种情况属于暗示心理，可能引起恶性循环，导致咽部异常感觉。\\n\\n针对咽部有异物感的检查，首先应该查明病因，需要进行相关的实验室检查和影像学检查。例如，可以根据情况进行鼻咽镜检查、喉镜检查、X线检查、CT扫描等，以帮助医生确定是否有局部病变。', 'id': 'DX_746741', 'question': '咽部有异物感是怎么回事？'}, page_content='咽部有异物感是怎么回事？')],\n",
       "    'baidu_search': (None, None, None, None)}]]}"
      ]
     },
     "execution_count": 5,
     "metadata": {},
     "output_type": "execute_result"
    }
   ],
   "source": [
    "ld[-28]"
   ]
  },
  {
   "cell_type": "code",
   "execution_count": 6,
   "metadata": {},
   "outputs": [],
   "source": [
    "class RetrievalAction(BaseModel):\n",
    "    \"\"\"The action of retrievaling from the knowledge base.\"\"\"\n",
    "    reasoning: str = Field(\n",
    "        description=\"The reasong why you are doing the following query.\"\n",
    "    )\n",
    "    queries: list[str] = Field(description=\"The list of queries to execute. Each should be a question.\")\n",
    "\n",
    "class AskAction(BaseModel):\n",
    "    \"\"\"The action of asking the patient for extra information.\"\"\"\n",
    "    reasoning: str = Field(\n",
    "        description=\"The reason why you are asking the following question.\"\n",
    "    )\n",
    "    entities: list[str] = Field(\n",
    "        description=\"The medical entities related to this conversation. Only the important ones should be included.\"\n",
    "    )\n",
    "    text: str = Field(\n",
    "        description=\"The text sent to the patient.\"\n",
    "    )\n",
    "\n",
    "class TellAction(BaseModel):\n",
    "    \"\"\"The action of telling the patient something.\"\"\"\n",
    "    reasoning: str = Field(\n",
    "        description=\"The reason why you are telling the user the following text.\"\n",
    "    )\n",
    "    text: str = Field(\n",
    "        description=\"The text sent to the patient.\"\n",
    "    )"
   ]
  },
  {
   "cell_type": "code",
   "execution_count": 7,
   "metadata": {},
   "outputs": [],
   "source": [
    "tools = []"
   ]
  },
  {
   "cell_type": "code",
   "execution_count": 8,
   "metadata": {},
   "outputs": [],
   "source": [
    "for each in [RetrievalAction, AskAction, TellAction]:\n",
    "    converted = convert_to_openai_function(each)\n",
    "    tools.append({\n",
    "        \"Type\": \"function\",\n",
    "        \"Function\": json.dumps(converted, ensure_ascii=False)\n",
    "    })"
   ]
  },
  {
   "cell_type": "code",
   "execution_count": 9,
   "metadata": {},
   "outputs": [],
   "source": [
    "format_objects = []"
   ]
  },
  {
   "cell_type": "code",
   "execution_count": 10,
   "metadata": {},
   "outputs": [],
   "source": [
    "instruction = \"\"\"### 指令\n",
    "是一个医学专家级的AI助手。现在你需要根据已有信息，给出下一个Action，如果信息不足，可以使用RetrievalAction查询知识库，或使用AskAction询问患者。如果信息充足，可以使用TellAction告知患者信息。注意，你一次只能执行一个Action。\n",
    "\n",
    "### 医患历史对话\n",
    "{}\n",
    "\n",
    "\"\"\""
   ]
  },
  {
   "cell_type": "code",
   "execution_count": null,
   "metadata": {},
   "outputs": [],
   "source": [
    "idx_to_raw = {}"
   ]
  },
  {
   "cell_type": "code",
   "execution_count": 11,
   "metadata": {},
   "outputs": [],
   "source": [
    "for each in ld:\n",
    "    messages = []\n",
    "    \n",
    "    conversation = each['conversation']\n",
    "    conversation_formatted = []\n",
    "    for e in conversation:\n",
    "        conversation_formatted.append(f\"患者：{e['patient']}\")\n",
    "        conversation_formatted.append(f\"医生：{e['doctor']}\")\n",
    "\n",
    "    messages.append({\n",
    "        \"Role\": \"user\",\n",
    "        \"Content\": instruction.format(\"\\n\".join(conversation_formatted[:-1]))\n",
    "    })\n",
    "    \n",
    "    query_requests = each['query_requests']\n",
    "    query_history_by_turn = each[\"query_history_by_turn\"]\n",
    "\n",
    "    for i in range(len(query_requests)):\n",
    "        query_request: RetrievalRequest = query_requests[i]\n",
    "        query_results_this_turn: list[RetrievalItem] = query_history_by_turn[i]\n",
    "        messages.append({\n",
    "            \"Role\": \"assistant\",\n",
    "            \"ToolCalls\": [\n",
    "                {\n",
    "                    \"Function\": {\n",
    "                        \"Name\": \"RetrievalAction\",\n",
    "                        \"Arguments\": json.dumps({\n",
    "                            \"reasoning\": query_request.reasoning,\n",
    "                            \"queries\": query_request.queries,\n",
    "                        }, ensure_ascii=False)\n",
    "                    }\n",
    "                }\n",
    "            ]\n",
    "        })\n",
    "        messages.append({\n",
    "            \"Role\": \"tool\",\n",
    "            \"Content\": json.dumps(query_results_this_turn, ensure_ascii=False)\n",
    "        })\n",
    "    if each[\"response_structured_with_raw\"]['parsed'] is None:\n",
    "        continue\n",
    "    parsed_response: Response = each[\"response_structured_with_raw\"]['parsed']\n",
    "    if parsed_response.is_asking:\n",
    "        messages.append({\n",
    "            \"Role\": \"assistant\",\n",
    "            \"ToolCalls\": [\n",
    "                {\n",
    "                    \"Function\": {\n",
    "                        \"Name\": \"AskAction\",\n",
    "                        \"Arguments\": json.dumps({\n",
    "                            \"reasoning\": parsed_response.reasoning,\n",
    "                            \"entities\": parsed_response.entities,\n",
    "                            \"text\": parsed_response.text\n",
    "                            # \"text\": conversation[-1][\"doctor\"]\n",
    "                        }, ensure_ascii=False)\n",
    "                    }\n",
    "                }\n",
    "            ]\n",
    "        })\n",
    "    else:\n",
    "        messages.append({\n",
    "            \"Role\": \"assistant\",\n",
    "            \"ToolCalls\": [\n",
    "                {\n",
    "                    \"Function\": {\n",
    "                        \"Name\": \"TellAction\",\n",
    "                        \"Arguments\": json.dumps({\n",
    "                            \"reasoning\": parsed_response.reasoning,\n",
    "                            \"text\": parsed_response.text\n",
    "                            # \"text\": conversation[-1][\"doctor\"]\n",
    "                        }, ensure_ascii=False)\n",
    "                    }\n",
    "                }\n",
    "            ]\n",
    "        })\n",
    "    format_objects.append({\n",
    "        \"Messages\": messages,\n",
    "        \"Tools\": tools\n",
    "    })"
   ]
  },
  {
   "cell_type": "code",
   "execution_count": 12,
   "metadata": {},
   "outputs": [],
   "source": [
    "json.dump(format_objects, open(\"./objs.json\", \"w\"), ensure_ascii=False)"
   ]
  },
  {
   "cell_type": "code",
   "execution_count": null,
   "metadata": {},
   "outputs": [],
   "source": [
    "try:\n",
    "    os.rmdir(\"./cache/values\")\n",
    "except:\n",
    "    pass\n",
    "os.makedirs(\"./cache/values\", exist_ok=True)\n",
    "os.makedirs(\"./cache/results\", exist_ok=True)\n",
    "for i, o in enumerate(format_objects):\n",
    "    idx_to_raw[i] = ld[i]\n",
    "    json.dump(o, open(f\"./cache/values/{i}.json\", \"w\"), indent=2, ensure_ascii=False)"
   ]
  },
  {
   "cell_type": "code",
   "execution_count": 14,
   "metadata": {},
   "outputs": [
    {
     "name": "stdout",
     "output_type": "stream",
     "text": [
      "Rendered prompts saved to rendered_prompts.json\n"
     ]
    },
    {
     "data": {
      "text/plain": [
       "0"
      ]
     },
     "execution_count": 14,
     "metadata": {},
     "output_type": "execute_result"
    }
   ],
   "source": [
    "# call go lang here\n",
    "os.system(\"go run ./work.go\")"
   ]
  },
  {
   "cell_type": "code",
   "execution_count": 15,
   "metadata": {},
   "outputs": [],
   "source": [
    "import json"
   ]
  },
  {
   "cell_type": "code",
   "execution_count": 16,
   "metadata": {},
   "outputs": [],
   "source": [
    "dd = json.load(open(\"./rendered_prompts.json\", \"r\"))"
   ]
  },
  {
   "cell_type": "code",
   "execution_count": 17,
   "metadata": {},
   "outputs": [],
   "source": [
    "trimmed = []\n",
    "for each in dd:\n",
    "    trimmed.append(each.replace('<no value>', '<|im_end|>'))"
   ]
  },
  {
   "cell_type": "code",
   "execution_count": 18,
   "metadata": {},
   "outputs": [],
   "source": [
    "json.dump(trimmed, open('./rendered_prompts.json', \"w\"), ensure_ascii=False)"
   ]
  },
  {
   "cell_type": "code",
   "execution_count": 24,
   "metadata": {},
   "outputs": [],
   "source": [
    "with open(\"res_40.txt\", \"w\") as f:\n",
    "    for each in trimmed[40:50]:\n",
    "        f.write(each)\n",
    "        f.write(\"=\" * 10 + \"\\n\")"
   ]
  },
  {
   "cell_type": "code",
   "execution_count": 20,
   "metadata": {},
   "outputs": [
    {
     "data": {
      "text/plain": [
       "65018"
      ]
     },
     "execution_count": 20,
     "metadata": {},
     "output_type": "execute_result"
    }
   ],
   "source": [
    "len(trimmed)"
   ]
  }
 ],
 "metadata": {
  "kernelspec": {
   "display_name": "default",
   "language": "python",
   "name": "python3"
  },
  "language_info": {
   "codemirror_mode": {
    "name": "ipython",
    "version": 3
   },
   "file_extension": ".py",
   "mimetype": "text/x-python",
   "name": "python",
   "nbconvert_exporter": "python",
   "pygments_lexer": "ipython3",
   "version": "3.12.6"
  }
 },
 "nbformat": 4,
 "nbformat_minor": 2
}

{
 "cells": [
  {
   "cell_type": "code",
   "execution_count": 1,
   "metadata": {},
   "outputs": [],
   "source": [
    "import hashlib"
   ]
  },
  {
   "cell_type": "code",
   "execution_count": 2,
   "metadata": {},
   "outputs": [],
   "source": [
    "def cal_hash(s: str) -> str:\n",
    "    hash_object = hashlib.sha256(s.encode())  # 必须将字符串编码为字节\n",
    "    hash_hex = hash_object.hexdigest() \n",
    "    return hash_hex"
   ]
  },
  {
   "cell_type": "code",
   "execution_count": 3,
   "metadata": {},
   "outputs": [],
   "source": [
    "import os"
   ]
  },
  {
   "cell_type": "code",
   "execution_count": 4,
   "metadata": {},
   "outputs": [],
   "source": [
    "import os\n",
    "\n",
    "# 当前文件夹路径\n",
    "current_directory = os.getcwd()"
   ]
  },
  {
   "cell_type": "code",
   "execution_count": 5,
   "metadata": {},
   "outputs": [],
   "source": [
    "\n",
    "# 列出当前文件夹下的所有 .json 文件\n",
    "json_files = [f for f in os.listdir(current_directory) if f.endswith(\".json\")]"
   ]
  },
  {
   "cell_type": "code",
   "execution_count": 6,
   "metadata": {},
   "outputs": [],
   "source": [
    "json_files = [e for e in json_files if e != \"all.json\"]"
   ]
  },
  {
   "cell_type": "code",
   "execution_count": 7,
   "metadata": {},
   "outputs": [],
   "source": [
    "conv_id_to_conv = {}"
   ]
  },
  {
   "cell_type": "code",
   "execution_count": 8,
   "metadata": {},
   "outputs": [],
   "source": [
    "import json\n",
    "from tqdm import tqdm"
   ]
  },
  {
   "cell_type": "code",
   "execution_count": 9,
   "metadata": {},
   "outputs": [
    {
     "name": "stderr",
     "output_type": "stream",
     "text": [
      "100%|██████████| 2711/2711 [00:00<00:00, 491347.25it/s]\n",
      "100%|██████████| 2711/2711 [00:00<00:00, 398345.00it/s]\n",
      "100%|██████████| 1/1 [00:00<00:00, 19152.07it/s]\n",
      "100%|██████████| 1/1 [00:00<00:00, 18641.35it/s]\n",
      "100%|██████████| 2709/2709 [00:00<00:00, 480885.79it/s]\n",
      "100%|██████████| 2709/2709 [00:00<00:00, 387569.31it/s]\n",
      "100%|██████████| 2/2 [00:00<00:00, 46863.73it/s]\n",
      "100%|██████████| 2/2 [00:00<00:00, 42799.02it/s]\n",
      "100%|██████████| 3/3 [00:00<00:00, 83330.54it/s]\n",
      "100%|██████████| 3/3 [00:00<00:00, 69136.88it/s]\n",
      "100%|██████████| 5/5 [00:00<00:00, 117817.53it/s]\n",
      "100%|██████████| 5/5 [00:00<00:00, 96642.95it/s]\n",
      "0it [00:00, ?it/s]\n",
      "0it [00:00, ?it/s]\n",
      "100%|██████████| 2/2 [00:00<00:00, 45590.26it/s]\n",
      "100%|██████████| 2/2 [00:00<00:00, 37282.70it/s]\n",
      "100%|██████████| 4/4 [00:00<00:00, 79891.50it/s]\n",
      "100%|██████████| 4/4 [00:00<00:00, 66052.03it/s]\n",
      "0it [00:00, ?it/s]\n",
      "0it [00:00, ?it/s]\n",
      "100%|██████████| 4/4 [00:00<00:00, 66841.50it/s]\n",
      "100%|██████████| 4/4 [00:00<00:00, 54295.20it/s]\n",
      "100%|██████████| 2/2 [00:00<00:00, 36002.61it/s]\n",
      "100%|██████████| 2/2 [00:00<00:00, 33026.02it/s]\n",
      "100%|██████████| 1/1 [00:00<00:00, 18978.75it/s]\n",
      "100%|██████████| 1/1 [00:00<00:00, 18078.90it/s]\n",
      "100%|██████████| 2/2 [00:00<00:00, 27869.13it/s]\n",
      "100%|██████████| 2/2 [00:00<00:00, 22919.69it/s]\n",
      "100%|██████████| 1/1 [00:00<00:00, 14614.30it/s]\n",
      "100%|██████████| 1/1 [00:00<00:00, 12787.51it/s]\n",
      "0it [00:00, ?it/s]\n",
      "0it [00:00, ?it/s]\n",
      "0it [00:00, ?it/s]\n",
      "0it [00:00, ?it/s]\n",
      "100%|██████████| 21585/21585 [00:00<00:00, 502841.24it/s]\n",
      "100%|██████████| 21585/21585 [00:00<00:00, 370805.64it/s]\n",
      "100%|██████████| 5/5 [00:00<00:00, 91180.52it/s]\n",
      "100%|██████████| 5/5 [00:00<00:00, 88487.43it/s]\n",
      "100%|██████████| 1/1 [00:00<00:00, 28926.23it/s]\n",
      "100%|██████████| 1/1 [00:00<00:00, 26051.58it/s]\n",
      "100%|██████████| 3/3 [00:00<00:00, 75346.78it/s]\n",
      "100%|██████████| 3/3 [00:00<00:00, 48960.75it/s]\n",
      "100%|██████████| 1/1 [00:00<00:00, 23301.69it/s]\n",
      "100%|██████████| 1/1 [00:00<00:00, 21732.15it/s]\n",
      "100%|██████████| 5/5 [00:00<00:00, 81920.00it/s]\n",
      "100%|██████████| 5/5 [00:00<00:00, 75437.12it/s]\n",
      "100%|██████████| 2/2 [00:00<00:00, 34663.67it/s]\n",
      "100%|██████████| 2/2 [00:00<00:00, 31418.01it/s]\n",
      "0it [00:00, ?it/s]\n",
      "0it [00:00, ?it/s]\n",
      "100%|██████████| 9/9 [00:00<00:00, 84638.42it/s]\n",
      "100%|██████████| 9/9 [00:00<00:00, 69647.11it/s]\n",
      "100%|██████████| 54/54 [00:00<00:00, 100085.03it/s]\n",
      "100%|██████████| 54/54 [00:00<00:00, 87821.80it/s]\n",
      "100%|██████████| 20/20 [00:00<00:00, 67595.55it/s]\n",
      "100%|██████████| 20/20 [00:00<00:00, 66523.46it/s]\n",
      "100%|██████████| 5/5 [00:00<00:00, 29046.43it/s]\n",
      "100%|██████████| 5/5 [00:00<00:00, 33235.37it/s]\n",
      "100%|██████████| 5/5 [00:00<00:00, 38836.15it/s]\n",
      "100%|██████████| 5/5 [00:00<00:00, 32974.09it/s]\n",
      "0it [00:00, ?it/s]\n",
      "0it [00:00, ?it/s]\n",
      "0it [00:00, ?it/s]\n",
      "0it [00:00, ?it/s]\n",
      "100%|██████████| 1/1 [00:00<00:00, 8305.55it/s]\n",
      "100%|██████████| 1/1 [00:00<00:00, 7869.24it/s]\n",
      "0it [00:00, ?it/s]\n",
      "0it [00:00, ?it/s]\n",
      "100%|██████████| 10/10 [00:00<00:00, 57065.36it/s]\n",
      "100%|██████████| 10/10 [00:00<00:00, 44104.14it/s]\n",
      "0it [00:00, ?it/s]\n",
      "0it [00:00, ?it/s]\n",
      "100%|██████████| 1/1 [00:00<00:00, 10512.04it/s]\n",
      "100%|██████████| 1/1 [00:00<00:00, 9362.29it/s]\n",
      "100%|██████████| 50/50 [00:00<00:00, 110901.75it/s]\n",
      "100%|██████████| 50/50 [00:00<00:00, 85042.66it/s]\n",
      "100%|██████████| 479/479 [00:00<00:00, 10320.13it/s]\n",
      "100%|██████████| 479/479 [00:00<00:00, 253286.89it/s]\n"
     ]
    }
   ],
   "source": [
    "for path in json_files:\n",
    "    data = json.load(open(path))\n",
    "    conversations = []\n",
    "    for i in tqdm(range(len(data))):\n",
    "        current_conversation = []\n",
    "        for j in range(30):\n",
    "            p_idx = j * 2\n",
    "            d_idx = j * 2 + 1\n",
    "            if d_idx >= len(data[i]) or data[i][d_idx] is None:\n",
    "                break\n",
    "            current_conversation.append(\n",
    "                {\n",
    "                    \"patient\": data[i][p_idx]['sentence'],\n",
    "                    \"doctor\": data[i][d_idx]['sentence']\n",
    "                }\n",
    "            )\n",
    "        conversations.append(\n",
    "            current_conversation\n",
    "        )\n",
    "    for item in tqdm(conversations):\n",
    "        first_hash = cal_hash(str(item[0]))\n",
    "        conv_id_to_conv[first_hash] = item"
   ]
  },
  {
   "cell_type": "code",
   "execution_count": 10,
   "metadata": {},
   "outputs": [],
   "source": [
    "test_conv = [\n",
    "    {\n",
    "        'patient':'脸上一直出豆豆。脸上出豆，用过很多东西，总是反反复复，都快没信心了。',\n",
    "        'doctor':'需要本人过来看看，特别是首诊很重要，以便准确诊断和确定治疗方案。'\n",
    "    },\n",
    "    {\n",
    "        'patient':'一定要去吗？主要太远了我现在就是想咨询一下我需要做些什么，吃哪些药好一点，',\n",
    "        'doctor':'皮肤科的病需要直观。'\n",
    "    }\n",
    "]"
   ]
  },
  {
   "cell_type": "code",
   "execution_count": 11,
   "metadata": {},
   "outputs": [
    {
     "data": {
      "text/plain": [
       "[{'patient': '脸上一直出豆豆。脸上出豆，用过很多东西，总是反反复复，都快没信心了。',\n",
       "  'doctor': '需要本人过来看看，特别是首诊很重要，以便准确诊断和确定治疗方案。'},\n",
       " {'patient': '一定要去吗？主要太远了我现在就是想咨询一下我需要做些什么，吃哪些药好一点，', 'doctor': '皮肤科的病需要直观。'},\n",
       " {'patient': '拍照片可以吗？', 'doctor': '不行。'}]"
      ]
     },
     "execution_count": 11,
     "metadata": {},
     "output_type": "execute_result"
    }
   ],
   "source": [
    "conv_id_to_conv[cal_hash(str(test_conv[0]))]"
   ]
  },
  {
   "cell_type": "code",
   "execution_count": 12,
   "metadata": {},
   "outputs": [],
   "source": [
    "import pickle"
   ]
  },
  {
   "cell_type": "code",
   "execution_count": 13,
   "metadata": {},
   "outputs": [],
   "source": [
    "pickle.dump(conv_id_to_conv, open(\"./tagged.pkl\", \"wb\"))"
   ]
  }
 ],
 "metadata": {
  "kernelspec": {
   "display_name": "default",
   "language": "python",
   "name": "python3"
  },
  "language_info": {
   "codemirror_mode": {
    "name": "ipython",
    "version": 3
   },
   "file_extension": ".py",
   "mimetype": "text/x-python",
   "name": "python",
   "nbconvert_exporter": "python",
   "pygments_lexer": "ipython3",
   "version": "3.12.6"
  }
 },
 "nbformat": 4,
 "nbformat_minor": 2
}
